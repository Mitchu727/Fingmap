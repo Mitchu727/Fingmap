{
 "cells": [
  {
   "cell_type": "markdown",
   "metadata": {},
   "source": [
    "# Michał Matak - sieć neuronowa do mapowania obiektu"
   ]
  },
  {
   "cell_type": "markdown",
   "metadata": {},
   "source": [
    "\n",
    "\n",
    "### Importowanie bibliotek\n",
    "* numpy - operacje na macierzach \n",
    "* Nwt - sieć neuronowa własnej implementacji"
   ]
  },
  {
   "cell_type": "code",
   "execution_count": 2,
   "metadata": {},
   "outputs": [],
   "source": [
    "import numpy as np\n",
    "from Net import Net\n",
    "import matplotlib.pyplot as plt\n",
    "import csv\n",
    "import random"
   ]
  },
  {
   "cell_type": "markdown",
   "metadata": {},
   "source": [
    "### Funkcje przekształcające strukturę zbioru danych"
   ]
  },
  {
   "cell_type": "markdown",
   "metadata": {},
   "source": [
    "Zakodowanie pomiarów w macierz:"
   ]
  },
  {
   "cell_type": "code",
   "execution_count": 3,
   "metadata": {},
   "outputs": [],
   "source": [
    "data_dictionary = {\n",
    "    \"13.0_10.0\":1,\n",
    "    \"14.0_10.0\":2,\n",
    "    \"15.0_10.0\":3,\n",
    "    \"15.0_11.0\":4,\n",
    "    \"15.0_12.0\":5,\n",
    "    \"20.0_5.0\":6\n",
    "}"
   ]
  },
  {
   "cell_type": "code",
   "execution_count": 4,
   "metadata": {},
   "outputs": [],
   "source": [
    "data_dictionary = {\n",
    "    \"14.0_10.0\":1,\n",
    "    \"15.0_10.0\":2,\n",
    "    \"15.0_11.0\":3,\n",
    "}"
   ]
  },
  {
   "cell_type": "code",
   "execution_count": 5,
   "metadata": {},
   "outputs": [
    {
     "name": "stdout",
     "output_type": "stream",
     "text": [
      "{'14.0_10.0': 1, '15.0_10.0': 2, '15.0_11.0': 3}\n"
     ]
    }
   ],
   "source": [
    "print(data_dictionary)"
   ]
  },
  {
   "cell_type": "code",
   "execution_count": 6,
   "metadata": {},
   "outputs": [],
   "source": [
    "def encode(number):\n",
    "    vector = np.zeros(len(data_dictionary))\n",
    "    vector[number-1] = 1\n",
    "    return vector"
   ]
  },
  {
   "cell_type": "code",
   "execution_count": 7,
   "metadata": {},
   "outputs": [],
   "source": [
    "def decode(vector):\n",
    "    return np.argmax(vector) + 1"
   ]
  },
  {
   "cell_type": "code",
   "execution_count": 8,
   "metadata": {},
   "outputs": [],
   "source": [
    "def classify(array):\n",
    "    return np.array([1 if element == max(array) else 0 for element in array], dtype=\"float64\")"
   ]
  },
  {
   "cell_type": "code",
   "execution_count": 9,
   "metadata": {},
   "outputs": [
    {
     "name": "stdout",
     "output_type": "stream",
     "text": [
      "[0. 1. 0.]\n",
      "2\n"
     ]
    }
   ],
   "source": [
    "x = encode(2)\n",
    "print(x)\n",
    "print(decode(x))"
   ]
  },
  {
   "cell_type": "markdown",
   "metadata": {},
   "source": [
    "Pobranie danych z pliku:"
   ]
  },
  {
   "cell_type": "code",
   "execution_count": 10,
   "metadata": {},
   "outputs": [],
   "source": [
    "def control(reading):\n",
    "    control = 50\n",
    "    return min(reading, control)/control"
   ]
  },
  {
   "cell_type": "code",
   "execution_count": 11,
   "metadata": {},
   "outputs": [],
   "source": [
    "def get_data(measurement):\n",
    "    offset = 0\n",
    "    sample_data = []\n",
    "    with open(\"standarized/\" + measurement + \".txt\", newline='') as csvfile:\n",
    "        reader = csv.reader(csvfile)\n",
    "        for row in reader:\n",
    "            if len(row) == 6 + offset:\n",
    "                odczyt1 = float(row[1+offset])\n",
    "                odczyt2 = float(row[3+offset])\n",
    "                odczyt3 = float(row[5+offset])\n",
    "                sample_data.append([np.array([control(odczyt1), control(odczyt2), control(odczyt3)]),\n",
    "                                    encode(data_dictionary[measurement])])\n",
    "    return sample_data"
   ]
  },
  {
   "cell_type": "markdown",
   "metadata": {},
   "source": [
    "Rezultatem jest lista **data** składająca się z list w formie: \\[ \\[atrybuty\\], \\[macierz odpowiadająca gatunkowi\\] \\]"
   ]
  },
  {
   "cell_type": "markdown",
   "metadata": {},
   "source": [
    "Podział danych na zbiór testowy według **train_test_ratio**:"
   ]
  },
  {
   "cell_type": "code",
   "execution_count": 12,
   "metadata": {},
   "outputs": [],
   "source": [
    "def create_sets(data, set1_set2_ratio):\n",
    "    np.random.shuffle(data)\n",
    "    set1_size = int(set1_set2_ratio*len(data))\n",
    "    set2_size = len(data) - set1_size\n",
    "    set1 = data[:set1_size]\n",
    "    set2 = data[-set2_size:]\n",
    "    return set1, set2"
   ]
  },
  {
   "cell_type": "code",
   "execution_count": 13,
   "metadata": {},
   "outputs": [
    {
     "name": "stdout",
     "output_type": "stream",
     "text": [
      "3000\n"
     ]
    }
   ],
   "source": [
    "data = []\n",
    "for element in data_dictionary:\n",
    "    data += get_data(element)\n",
    "data = np.array(data)\n",
    "print(len(data))"
   ]
  },
  {
   "cell_type": "code",
   "execution_count": 39,
   "metadata": {},
   "outputs": [],
   "source": [
    "train_set, test_set = create_sets(data, 0.75)"
   ]
  },
  {
   "cell_type": "markdown",
   "metadata": {},
   "source": [
    "### Sieć neuronowa"
   ]
  },
  {
   "cell_type": "code",
   "execution_count": 40,
   "metadata": {},
   "outputs": [
    {
     "data": {
      "text/plain": [
       "3"
      ]
     },
     "execution_count": 40,
     "metadata": {},
     "output_type": "execute_result"
    }
   ],
   "source": [
    "len(data_dictionary)"
   ]
  },
  {
   "cell_type": "code",
   "execution_count": 41,
   "metadata": {},
   "outputs": [],
   "source": [
    "train_set, test_set = create_sets(data, 0.25)"
   ]
  },
  {
   "cell_type": "code",
   "execution_count": 42,
   "metadata": {},
   "outputs": [],
   "source": [
    "NN = Net([3, 200, 100, 10, len(data_dictionary)], False, 0.1)"
   ]
  },
  {
   "cell_type": "code",
   "execution_count": 43,
   "metadata": {},
   "outputs": [],
   "source": [
    "x = np.array(train_set)[:, 0]\n",
    "y = np.array(train_set)[:, 1]"
   ]
  },
  {
   "cell_type": "code",
   "execution_count": 44,
   "metadata": {},
   "outputs": [],
   "source": [
    "NN.train(x, y, 100000, True)"
   ]
  },
  {
   "cell_type": "code",
   "execution_count": 45,
   "metadata": {},
   "outputs": [
    {
     "name": "stdout",
     "output_type": "stream",
     "text": [
      "[0.39357081 0.52098572 0.12482708]\n",
      "[0. 1. 0.]\n",
      "2\n",
      "1\n"
     ]
    }
   ],
   "source": [
    "print(NN(test_set[0][0]))\n",
    "print(classify(NN(test_set[0][0])))\n",
    "print(decode(classify(NN(test_set[0][0]))))\n",
    "print(decode(test_set[0][1]))"
   ]
  },
  {
   "cell_type": "markdown",
   "metadata": {},
   "source": [
    "### Ewaluacja - sprawdzenie działania algorytmu"
   ]
  },
  {
   "cell_type": "code",
   "execution_count": 46,
   "metadata": {},
   "outputs": [
    {
     "name": "stdout",
     "output_type": "stream",
     "text": [
      "Accuracy: 60.89%\n"
     ]
    }
   ],
   "source": [
    "errors = 0\n",
    "for element in test_set:\n",
    "    if decode(classify(NN(element[0]))) != decode(element[1]):\n",
    "        errors +=1\n",
    "error_rate = errors/len(test_set)\n",
    "print(f\"Accuracy: {(1-error_rate)*100:.02f}%\")"
   ]
  },
  {
   "cell_type": "code",
   "execution_count": null,
   "metadata": {},
   "outputs": [],
   "source": []
  }
 ],
 "metadata": {
  "kernelspec": {
   "display_name": "Python 3",
   "language": "python",
   "name": "python3"
  },
  "language_info": {
   "codemirror_mode": {
    "name": "ipython",
    "version": 3
   },
   "file_extension": ".py",
   "mimetype": "text/x-python",
   "name": "python",
   "nbconvert_exporter": "python",
   "pygments_lexer": "ipython3",
   "version": "3.8.3"
  }
 },
 "nbformat": 4,
 "nbformat_minor": 4
}
