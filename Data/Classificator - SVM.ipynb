{
 "cells": [
  {
   "cell_type": "markdown",
   "metadata": {},
   "source": [
    "# Michał Matak - SVM do mapowania obiektu"
   ]
  },
  {
   "cell_type": "markdown",
   "metadata": {},
   "source": [
    "\n",
    "\n",
    "### Importowanie bibliotek\n",
    "* numpy - operacje na macierzach \n",
    "* scipy - optymalizacja parametryczna\n",
    "* matplotlib - tworzenie wykresów"
   ]
  },
  {
   "cell_type": "code",
   "execution_count": 1,
   "metadata": {},
   "outputs": [],
   "source": [
    "import numpy as np\n",
    "from scipy.optimize import minimize\n",
    "from scipy.optimize import NonlinearConstraint\n",
    "from get_dictionary import get_dictionary\n",
    "import matplotlib.pyplot as plt\n",
    "import csv\n",
    "import random"
   ]
  },
  {
   "cell_type": "code",
   "execution_count": 14,
   "metadata": {},
   "outputs": [],
   "source": [
    "directory = \"series3\""
   ]
  },
  {
   "cell_type": "markdown",
   "metadata": {},
   "source": [
    "### Funkcje przekształcające strukturę zbioru danych"
   ]
  },
  {
   "cell_type": "markdown",
   "metadata": {},
   "source": [
    "Zakodowanie pomiarów w macierz:"
   ]
  },
  {
   "cell_type": "code",
   "execution_count": 12,
   "metadata": {},
   "outputs": [],
   "source": [
    "data_dictionary = {\n",
    "    \"13.0_10.0\":1,\n",
    "    \"14.0_10.0\":2,\n",
    "    \"15.0_10.0\":3,\n",
    "    \"15.0_11.0\":4,\n",
    "    \"15.0_12.0\":5,\n",
    "    \"20.0_5.0\":6\n",
    "}"
   ]
  },
  {
   "cell_type": "code",
   "execution_count": 13,
   "metadata": {},
   "outputs": [],
   "source": [
    "data_dictionary = {\n",
    "    \"14.0_10.0\":1,\n",
    "    \"15.0_10.0\":2,\n",
    "    \"15.0_11.0\":3,\n",
    "}"
   ]
  },
  {
   "cell_type": "code",
   "execution_count": 15,
   "metadata": {},
   "outputs": [],
   "source": [
    "data_dictionary = get_dictionary(directory)"
   ]
  },
  {
   "cell_type": "code",
   "execution_count": 16,
   "metadata": {},
   "outputs": [
    {
     "name": "stdout",
     "output_type": "stream",
     "text": [
      "{'10.0_10.0': 1, '10.0_11.0': 2, '10.0_12.0': 3, '10.0_13.0': 4, '10.0_14.0': 5, '10.0_15.0': 6, '10.0_16.0': 7, '10.0_17.0': 8, '10.0_19.0': 9, '10.0_20.0': 10, '10.0_21.0': 11, '10.0_22.0': 12, '10.0_23.0': 13, '10.0_24.0': 14, '10.0_25.0': 15, '10.0_5.0': 16, '10.0_6.0': 17, '10.0_7.0': 18, '10.0_78.0': 19, '10.0_8.0': 20, '10.0_9.0': 21, '15.0_10.0': 22, '15.0_11.0': 23, '15.0_12.0': 24, '15.0_13.0': 25, '15.0_14.0': 26, '15.0_15.0': 27, '15.0_16.0': 28, '15.0_17.0': 29, '15.0_18.0': 30, '15.0_19.0': 31, '15.0_20.0': 32, '15.0_21.0': 33, '15.0_22.0': 34, '15.0_23.0': 35, '15.0_24.0': 36, '15.0_25.0': 37, '15.0_5.0': 38, '15.0_6.0': 39, '15.0_7.0': 40, '15.0_8.0': 41, '15.0_9.0': 42, '5.0_10.0': 43, '5.0_11.0': 44, '5.0_12.0': 45, '5.0_13.0': 46, '5.0_14.0': 47, '5.0_15.0': 48, '5.0_16.0': 49, '5.0_17.0': 50, '5.0_18.0': 51, '5.0_19.0': 52, '5.0_20.0': 53, '5.0_21.0': 54, '5.0_22.0': 55, '5.0_23.0': 56, '5.0_24.0': 57, '5.0_25.0': 58, '5.0_5.0': 59, '5.0_6.0': 60, '5.0_7.0': 61, '5.0_8.0': 62, '5.0_9.0': 63}\n"
     ]
    }
   ],
   "source": [
    "print(data_dictionary)"
   ]
  },
  {
   "cell_type": "code",
   "execution_count": 17,
   "metadata": {},
   "outputs": [],
   "source": [
    "def encode(number):\n",
    "    vector = -np.ones(len(data_dictionary))\n",
    "    vector[number-1] = 1\n",
    "    return vector"
   ]
  },
  {
   "cell_type": "code",
   "execution_count": 18,
   "metadata": {},
   "outputs": [],
   "source": [
    "def decode(vector):\n",
    "    return np.argmax(vector) + 1"
   ]
  },
  {
   "cell_type": "code",
   "execution_count": 19,
   "metadata": {},
   "outputs": [
    {
     "name": "stdout",
     "output_type": "stream",
     "text": [
      "[-1.  1. -1. -1. -1. -1. -1. -1. -1. -1. -1. -1. -1. -1. -1. -1. -1. -1.\n",
      " -1. -1. -1. -1. -1. -1. -1. -1. -1. -1. -1. -1. -1. -1. -1. -1. -1. -1.\n",
      " -1. -1. -1. -1. -1. -1. -1. -1. -1. -1. -1. -1. -1. -1. -1. -1. -1. -1.\n",
      " -1. -1. -1. -1. -1. -1. -1. -1. -1.]\n",
      "2\n"
     ]
    }
   ],
   "source": [
    "x = encode(2)\n",
    "print(x)\n",
    "print(decode(x))"
   ]
  },
  {
   "cell_type": "markdown",
   "metadata": {},
   "source": [
    "Pobranie danych z pliku:"
   ]
  },
  {
   "cell_type": "code",
   "execution_count": 20,
   "metadata": {},
   "outputs": [],
   "source": [
    "def control(reading):\n",
    "    return min(reading, 50)"
   ]
  },
  {
   "cell_type": "code",
   "execution_count": 29,
   "metadata": {},
   "outputs": [],
   "source": [
    "def get_data(measurement):\n",
    "    offset = 0\n",
    "    sample_data = []\n",
    "    with open(directory + \"/\" + measurement + \".txt\", newline='') as csvfile:\n",
    "        reader = csv.reader(csvfile)\n",
    "        for row in reader:\n",
    "            if len(row) == 6 + offset:\n",
    "                odczyt1 = float(row[1+offset])\n",
    "                odczyt2 = float(row[3+offset])\n",
    "                odczyt3 = float(row[5+offset])\n",
    "                sample_data.append([np.array([control(odczyt1), control(odczyt2), control(odczyt3)]),\n",
    "                                    encode(data_dictionary[measurement])])\n",
    "    return sample_data"
   ]
  },
  {
   "cell_type": "markdown",
   "metadata": {},
   "source": [
    "Rezultatem jest lista **data** składająca się z list w formie: \\[ \\[atrybuty\\], \\[macierz odpowiadająca gatunkowi\\] \\]"
   ]
  },
  {
   "cell_type": "markdown",
   "metadata": {},
   "source": [
    "Podział danych na zbiór testowy według **train_test_ratio**:"
   ]
  },
  {
   "cell_type": "code",
   "execution_count": 30,
   "metadata": {},
   "outputs": [],
   "source": [
    "def create_train_test_sets(train_test_ratio, data):\n",
    "    np.random.shuffle(data)\n",
    "    train_set_size = int(train_test_ratio*len(data))\n",
    "    test_set_size = len(data) - train_set_size\n",
    "    train_set = data[:train_set_size]\n",
    "    test_set = data[-test_set_size:]\n",
    "    return train_set, test_set"
   ]
  },
  {
   "cell_type": "markdown",
   "metadata": {},
   "source": [
    "Podział danych w zbiorze ze względu na klasy:"
   ]
  },
  {
   "cell_type": "code",
   "execution_count": 31,
   "metadata": {},
   "outputs": [],
   "source": [
    "def split_data(data):\n",
    "    class_vector = [[] for element in data_dictionary]\n",
    "    for row in data:\n",
    "        class_vector[decode(row[1])-1].append(row)\n",
    "    return class_vector"
   ]
  },
  {
   "cell_type": "code",
   "execution_count": 32,
   "metadata": {},
   "outputs": [],
   "source": [
    "def make_3D_set(index, data):\n",
    "    data_set = np.array([[row[0][0], row[0][1], row[0][2], row[1][index]] for row in data])\n",
    "    return data_set"
   ]
  },
  {
   "cell_type": "markdown",
   "metadata": {},
   "source": [
    "### Funkcje związane z SVM"
   ]
  },
  {
   "cell_type": "markdown",
   "metadata": {},
   "source": [
    "Funkcja realizująca SVM **linear_SVM** przyjmuje jako argument zbiór z elementami postaci \\[atrybuty, przynależność (1 lub -1) do danej klasy\\] i zwraca **w** oraz **b** wyznaczające hiperpłaszczyznę dzielącą zbiór.  \n",
    "Zmiennymi globalnymi są **TRAIN_SET**, **RECORD_SIZE** oraz **LAMBDA**, oznaczające odpowiednio wielkość podanego zbioru, ilość atrybutów dla elementu w zbiorze oraz $\\lambda$. Zmienne te są globalne aby nie było potrzeby przekazywania ich jako parametry, do funkcji, która będzie minimalizowana (uznawała by je ona za zmienne i według nich szukała minimum).\n",
    "Funkcja minimize zaimportowana z biblioteki SciPy wykorzystuje poniżej zdefiniowane funkcje **constraint** oraz **target**."
   ]
  },
  {
   "cell_type": "code",
   "execution_count": 33,
   "metadata": {},
   "outputs": [],
   "source": [
    "def linear_SVM(train_set):\n",
    "    global TRAIN_SET\n",
    "    global RECORD_SIZE\n",
    "    global LAMBDA\n",
    "    LAMBDA = 0.5\n",
    "    TRAIN_SET = train_set\n",
    "    RECORD_SIZE = len(TRAIN_SET[0]) - 1\n",
    "    constraint = NonlinearConstraint(constraint1, np.zeros(len(TRAIN_SET)), np.inf)\n",
    "    res = minimize(target, np.random.random(RECORD_SIZE + 1), constraints=constraint)\n",
    "    w = res.x[:RECORD_SIZE]\n",
    "    b = res.x[RECORD_SIZE]\n",
    "    return w, b"
   ]
  },
  {
   "cell_type": "markdown",
   "metadata": {},
   "source": [
    "Funkcja **target** jest równoważna:  \n",
    "\n",
    "<center>$\\sum_i\\zeta_i + \\lambda \\|w\\|$</center>\n",
    "  \n",
    "      \n",
    "    \n",
    "  \n",
    "która jest minimalizowana dla argumentów *w* i *b* przez **minimize**. Argumenty te są zebrane w jednej liście aby funkcja optymalizująca mogła działać. "
   ]
  },
  {
   "cell_type": "code",
   "execution_count": 34,
   "metadata": {},
   "outputs": [],
   "source": [
    "def target(w):\n",
    "    return np.linalg.norm(w[:RECORD_SIZE], 2)*LAMBDA + dzeta(w).sum()"
   ]
  },
  {
   "cell_type": "markdown",
   "metadata": {},
   "source": [
    "Na minimalizację powyższej funkcji nałożone są warunki:  \n",
    "<center>$y_i(w^Tx - b)\\geq 1 - \\zeta_i$ </center>  \n",
    "Co jest równoważne:  \n",
    "<center>$y_i(w^Tx - b) - 1 + \\zeta_i\\geq 0 $ </center>  \n",
    "Operacja ta w funkcji constarint jest wykonywana od razu dla całej macierzy, gdzie $\\zeta$ jest obliczane od razu jako wektor."
   ]
  },
  {
   "cell_type": "code",
   "execution_count": 35,
   "metadata": {},
   "outputs": [],
   "source": [
    "def constraint1(w):\n",
    "    return ((np.matmul(TRAIN_SET[:, :RECORD_SIZE], w[:RECORD_SIZE]) - w[RECORD_SIZE]) * TRAIN_SET[:, RECORD_SIZE]) + \\\n",
    "            dzeta(w) - np.ones(len(TRAIN_SET))"
   ]
  },
  {
   "cell_type": "markdown",
   "metadata": {},
   "source": [
    "Funkcja **dzeta** wykonuje operację:\n",
    "<center>$\\zeta_i = max(1 - f(x_i)y_i, 0)$</center>  \n",
    "dla każdego elementu macierzy z danymi i zwraca wynik jako wektor.\n"
   ]
  },
  {
   "cell_type": "code",
   "execution_count": 36,
   "metadata": {},
   "outputs": [],
   "source": [
    "def dzeta(w):\n",
    "    return np.maximum(np.zeros(len(TRAIN_SET)), np.ones(len(TRAIN_SET)) - ((np.matmul(TRAIN_SET[:, :RECORD_SIZE], w[:RECORD_SIZE]) - w[RECORD_SIZE]) * TRAIN_SET[:, RECORD_SIZE]))"
   ]
  },
  {
   "cell_type": "markdown",
   "metadata": {},
   "source": [
    "### Uczenie SVM - program"
   ]
  },
  {
   "cell_type": "markdown",
   "metadata": {},
   "source": [
    "Dane są ładowane do listy data, następnie tworzony jest zbiór testowy, który zostaje podzielony na 3 grupy. Uczone są 3 SVM (porównują zbiory 1 z 2, 2 z 3 i 3 z 1), które zwracają parametry *w* i *b* a ich wyniki są przekazywane do funkcji **predict**."
   ]
  },
  {
   "cell_type": "code",
   "execution_count": 37,
   "metadata": {},
   "outputs": [
    {
     "name": "stdout",
     "output_type": "stream",
     "text": [
      "63000\n",
      "63\n",
      "909\n",
      "898\n",
      "908\n",
      "893\n",
      "888\n",
      "899\n",
      "892\n",
      "906\n",
      "904\n",
      "882\n",
      "898\n",
      "912\n",
      "900\n",
      "912\n",
      "903\n",
      "900\n",
      "911\n",
      "900\n",
      "907\n",
      "908\n",
      "876\n",
      "895\n",
      "890\n",
      "894\n",
      "898\n",
      "925\n",
      "882\n",
      "904\n",
      "922\n",
      "898\n",
      "896\n",
      "916\n",
      "882\n",
      "910\n",
      "893\n",
      "903\n",
      "900\n",
      "909\n",
      "906\n",
      "896\n",
      "883\n",
      "888\n",
      "898\n",
      "917\n",
      "894\n",
      "885\n",
      "911\n",
      "893\n",
      "893\n",
      "899\n",
      "895\n",
      "904\n",
      "897\n",
      "904\n",
      "903\n",
      "917\n",
      "898\n",
      "906\n",
      "896\n",
      "894\n",
      "882\n",
      "905\n",
      "913\n"
     ]
    }
   ],
   "source": [
    "data = []\n",
    "for element in data_dictionary:\n",
    "    data += get_data(element)\n",
    "print(len(data))\n",
    "print(len(data_dictionary))\n",
    "train_set, test_set = create_train_test_sets(0.9, data)\n",
    "class_vector = split_data(train_set)\n",
    "for element in class_vector:\n",
    "    print(len(element))"
   ]
  },
  {
   "cell_type": "code",
   "execution_count": 38,
   "metadata": {},
   "outputs": [],
   "source": [
    "parameters_array = [[[] for _ in range (len(data_dictionary))] for _ in range (len(data_dictionary))] \n",
    "for i in range (len(data_dictionary)):\n",
    "    for j in range (len(data_dictionary)):\n",
    "        if i!=j:\n",
    "            parameters_array[i][j] = linear_SVM(make_3D_set(i, class_vector[i] + class_vector[j]))"
   ]
  },
  {
   "cell_type": "markdown",
   "metadata": {},
   "source": [
    "#### Funkcja predict"
   ]
  },
  {
   "cell_type": "markdown",
   "metadata": {},
   "source": [
    "Funkcja **predict** przyjmuje jako argument atrybuty elementu zbioru i na ich podstawie decyduje do jakiej klasy należy dany element. Robi to instrukcjami warunkowymi (jeśli widzi, że dla porównań 1 z 2 i 1 z 3 oba wskazania są na 1 to zwraca macierz odpowiadającą elementowi klasy pierwszej, analogicznie dla pozostałych zbiorów). Sytuację, w której porówniane 1 z 2 wskazuje na 2, 2 z 3 na 2 i 3 z 1 na 1 pozostawiłem nierozstrzygnięte. Porównania między dwoma klasami odbywają się za pomocą obliczenia $wx - b$ i zwrócenia 1 jeśli wynik jest większy niż 0 lub -1 jeśli mniejszy."
   ]
  },
  {
   "cell_type": "markdown",
   "metadata": {},
   "source": [
    "Funkcja progowa unipolarna zwraca 1 jeśli *x* jest większy lub równy *a* i -1 jeśli *x* jest mniejszy od *a*  "
   ]
  },
  {
   "cell_type": "code",
   "execution_count": 39,
   "metadata": {},
   "outputs": [],
   "source": [
    "def threshold_unipolar_function(x, a):\n",
    "    if (x >= a):\n",
    "        return 1\n",
    "    elif (x < a):\n",
    "        return -1"
   ]
  },
  {
   "cell_type": "code",
   "execution_count": 40,
   "metadata": {},
   "outputs": [],
   "source": [
    "def predict(parameters_array, element):\n",
    "    for i in range (len(data_dictionary)):\n",
    "        pred_vector = [(threshold_unipolar_function(np.matmul(parameters_array[i][j][0], element) - parameters_array[i][j][1], 0)) \n",
    "                       for j in range(len(data_dictionary)) if i!=j]\n",
    "#         print(pred_vector)\n",
    "        if pred_vector == list(np.ones(len(data_dictionary)-1)):\n",
    "            return i+1\n",
    "    return 0"
   ]
  },
  {
   "cell_type": "code",
   "execution_count": 41,
   "metadata": {},
   "outputs": [
    {
     "data": {
      "text/plain": [
       "6300"
      ]
     },
     "execution_count": 41,
     "metadata": {},
     "output_type": "execute_result"
    }
   ],
   "source": [
    "len(test_set)"
   ]
  },
  {
   "cell_type": "markdown",
   "metadata": {},
   "source": [
    "### Ewaluacja - sprawdzenie działania algorytmu"
   ]
  },
  {
   "cell_type": "markdown",
   "metadata": {},
   "source": [
    "Poniżej znajduje się fragment programu, który sprawdza stopień poprawnośći przewidywań przez SVM. Zbiór testowy jest podzielony na 3 klasy i dla każdej klasy przewidywana jest jej klasa na podstawie modelu. Jeśli model się pomylił dodawana jest jedynka do liczby błędów."
   ]
  },
  {
   "cell_type": "code",
   "execution_count": 42,
   "metadata": {},
   "outputs": [
    {
     "name": "stdout",
     "output_type": "stream",
     "text": [
      "63000\n",
      "63\n",
      "111\n",
      "94\n",
      "93\n",
      "111\n",
      "99\n",
      "103\n",
      "91\n",
      "70\n",
      "122\n",
      "99\n",
      "108\n",
      "102\n",
      "82\n",
      "94\n",
      "100\n",
      "112\n",
      "98\n",
      "107\n",
      "86\n",
      "103\n",
      "97\n",
      "99\n",
      "109\n",
      "88\n",
      "103\n",
      "92\n",
      "97\n",
      "93\n",
      "88\n",
      "104\n",
      "97\n",
      "102\n",
      "82\n",
      "94\n",
      "96\n",
      "100\n",
      "100\n",
      "99\n",
      "96\n",
      "108\n",
      "104\n",
      "119\n",
      "112\n",
      "101\n",
      "96\n",
      "85\n",
      "110\n",
      "87\n",
      "95\n",
      "88\n",
      "110\n",
      "98\n",
      "113\n",
      "101\n",
      "109\n",
      "108\n",
      "105\n",
      "98\n",
      "103\n",
      "104\n",
      "111\n",
      "99\n",
      "115\n"
     ]
    }
   ],
   "source": [
    "data = []\n",
    "for element in data_dictionary:\n",
    "    data += get_data(element)\n",
    "print(len(data))\n",
    "print(len(data_dictionary))\n",
    "train_set, test_set = create_train_test_sets(0.1, data)\n",
    "class_vector = split_data(train_set)\n",
    "for element in class_vector:\n",
    "    print(len(element))"
   ]
  },
  {
   "cell_type": "code",
   "execution_count": 31,
   "metadata": {},
   "outputs": [],
   "source": [
    "parameters_array = [[[] for _ in range (len(data_dictionary))] for _ in range (len(data_dictionary))] \n",
    "for i in range (len(data_dictionary)):\n",
    "    for j in range (len(data_dictionary)):\n",
    "        if i!=j:\n",
    "            parameters_array[i][j] = linear_SVM(make_3D_set(i, class_vector[i] + class_vector[j]))"
   ]
  },
  {
   "cell_type": "code",
   "execution_count": 43,
   "metadata": {},
   "outputs": [
    {
     "name": "stdout",
     "output_type": "stream",
     "text": [
      "Class 1: accuracy 99.78%\n",
      "Class 2: accuracy 99.78%\n",
      "Class 3: accuracy 99.67%\n",
      "Class 4: accuracy 99.55%\n",
      "Class 5: accuracy 99.78%\n",
      "Class 6: accuracy 99.67%\n",
      "Class 7: accuracy 99.89%\n",
      "Class 8: accuracy 88.92%\n",
      "Class 9: accuracy 97.72%\n",
      "Class 10: accuracy 98.67%\n",
      "Class 11: accuracy 99.55%\n",
      "Class 12: accuracy 99.89%\n",
      "Class 13: accuracy 0.98%\n",
      "Class 14: accuracy 0.66%\n",
      "Class 15: accuracy 0.00%\n",
      "Class 16: accuracy 0.00%\n",
      "Class 17: accuracy 0.00%\n",
      "Class 18: accuracy 95.86%\n",
      "Class 19: accuracy 0.00%\n",
      "Class 20: accuracy 99.89%\n",
      "Class 21: accuracy 99.89%\n",
      "Class 22: accuracy 100.00%\n",
      "Class 23: accuracy 99.21%\n",
      "Class 24: accuracy 5.15%\n",
      "Class 25: accuracy 69.12%\n",
      "Class 26: accuracy 98.68%\n",
      "Class 27: accuracy 91.25%\n",
      "Class 28: accuracy 10.92%\n",
      "Class 29: accuracy 99.78%\n",
      "Class 30: accuracy 60.60%\n",
      "Class 31: accuracy 92.80%\n",
      "Class 32: accuracy 100.00%\n",
      "Class 33: accuracy 99.67%\n",
      "Class 34: accuracy 100.00%\n",
      "Class 35: accuracy 93.36%\n",
      "Class 36: accuracy 58.00%\n",
      "Class 37: accuracy 0.00%\n",
      "Class 38: accuracy 0.00%\n",
      "Class 39: accuracy 0.00%\n",
      "Class 40: accuracy 100.00%\n",
      "Class 41: accuracy 57.59%\n",
      "Class 42: accuracy 93.19%\n",
      "Class 43: accuracy 99.32%\n",
      "Class 44: accuracy 0.00%\n",
      "Class 45: accuracy 99.56%\n",
      "Class 46: accuracy 85.14%\n",
      "Class 47: accuracy 82.92%\n",
      "Class 48: accuracy 36.58%\n",
      "Class 49: accuracy 100.00%\n",
      "Class 50: accuracy 99.23%\n",
      "Class 51: accuracy 98.20%\n",
      "Class 52: accuracy 9.53%\n",
      "Class 53: accuracy 100.00%\n",
      "Class 54: accuracy 99.56%\n",
      "Class 55: accuracy 100.00%\n",
      "Class 56: accuracy 0.00%\n",
      "Class 57: accuracy 0.00%\n",
      "Class 58: accuracy 0.00%\n",
      "Class 59: accuracy 0.00%\n",
      "Class 60: accuracy 0.00%\n",
      "Class 61: accuracy 0.00%\n",
      "Class 62: accuracy 100.00%\n",
      "Class 63: accuracy 99.89%\n",
      "Total accuracy 65.34%\n"
     ]
    }
   ],
   "source": [
    "classes_vector = split_data(test_set)\n",
    "total_errors = 0\n",
    "for element in data_dictionary.values():\n",
    "    errors = 0\n",
    "    for row in classes_vector[element-1]:\n",
    "        if predict(parameters_array, row[0]) != element:\n",
    "            errors += 1\n",
    "    total_errors += errors\n",
    "    print(f\"Class {element}: accuracy {(1 - errors/len(classes_vector[element-1]))*100:.2f}%\")\n",
    "total_accuracy = (1 - (total_errors)/(len(test_set)))*100\n",
    "print(f\"Total accuracy {total_accuracy:.2f}%\")"
   ]
  },
  {
   "cell_type": "code",
   "execution_count": 33,
   "metadata": {},
   "outputs": [
    {
     "name": "stdout",
     "output_type": "stream",
     "text": [
      "13 13\n",
      "5 9\n",
      "6 6\n",
      "14 9\n",
      "5 0\n",
      "8 8\n",
      "1 1\n",
      "2 2\n",
      "8 8\n",
      "10 9\n"
     ]
    }
   ],
   "source": [
    "\"\"\"\n",
    "Sample test\n",
    "\"\"\"\n",
    "for _ in range(10):\n",
    "    x = random.choice(data)\n",
    "    print(decode(x[1]), predict(parameters_array, x[0]))\n",
    "    \n"
   ]
  },
  {
   "cell_type": "code",
   "execution_count": null,
   "metadata": {},
   "outputs": [],
   "source": []
  }
 ],
 "metadata": {
  "kernelspec": {
   "display_name": "Python 3",
   "language": "python",
   "name": "python3"
  },
  "language_info": {
   "codemirror_mode": {
    "name": "ipython",
    "version": 3
   },
   "file_extension": ".py",
   "mimetype": "text/x-python",
   "name": "python",
   "nbconvert_exporter": "python",
   "pygments_lexer": "ipython3",
   "version": "3.8.3"
  }
 },
 "nbformat": 4,
 "nbformat_minor": 4
}
