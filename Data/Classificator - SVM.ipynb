{
 "cells": [
  {
   "cell_type": "markdown",
   "metadata": {},
   "source": [
    "# Michał Matak - SVM do mapowania obiektu"
   ]
  },
  {
   "cell_type": "markdown",
   "metadata": {},
   "source": [
    "\n",
    "\n",
    "### Importowanie bibliotek\n",
    "* numpy - operacje na macierzach \n",
    "* scipy - optymalizacja parametryczna\n",
    "* matplotlib - tworzenie wykresów"
   ]
  },
  {
   "cell_type": "code",
   "execution_count": 1,
   "metadata": {},
   "outputs": [],
   "source": [
    "import numpy as np\n",
    "from scipy.optimize import minimize\n",
    "from scipy.optimize import NonlinearConstraint\n",
    "from data_operations import get_data, split_into_classes, split_into_sets, get_dictionary_axes, test, create_heatmap\n",
    "import matplotlib.pyplot as plt\n",
    "import random"
   ]
  },
  {
   "cell_type": "code",
   "execution_count": 2,
   "metadata": {},
   "outputs": [],
   "source": [
    "def encode(number, data_dictionary):\n",
    "    vector = -np.ones(len(data_dictionary))\n",
    "    vector[number-1] = 1\n",
    "    return vector\n",
    "\n",
    "def decode(vector):\n",
    "    return np.argmax(vector) + 1"
   ]
  },
  {
   "cell_type": "code",
   "execution_count": 3,
   "metadata": {},
   "outputs": [],
   "source": [
    "def make_3D_set(index, data):\n",
    "    data_set = np.array([[row[0][0], row[0][1], row[0][2], row[1][index]] for row in data])\n",
    "    return data_set"
   ]
  },
  {
   "cell_type": "markdown",
   "metadata": {},
   "source": [
    "### Dekodowanie"
   ]
  },
  {
   "cell_type": "code",
   "execution_count": 4,
   "metadata": {},
   "outputs": [],
   "source": [
    "data, data_dictionary = get_data(\"series2\", encode)"
   ]
  },
  {
   "cell_type": "code",
   "execution_count": 5,
   "metadata": {},
   "outputs": [
    {
     "name": "stdout",
     "output_type": "stream",
     "text": [
      "[-1.  1. -1. -1. -1. -1. -1. -1. -1. -1. -1. -1. -1. -1. -1.]\n",
      "2\n"
     ]
    }
   ],
   "source": [
    "x = encode(2, data_dictionary)\n",
    "print(x)\n",
    "print(decode(x))"
   ]
  },
  {
   "cell_type": "markdown",
   "metadata": {},
   "source": [
    "### Funkcje związane z SVM"
   ]
  },
  {
   "cell_type": "markdown",
   "metadata": {},
   "source": [
    "Funkcja realizująca SVM **linear_SVM** przyjmuje jako argument zbiór z elementami postaci \\[atrybuty, przynależność (1 lub -1) do danej klasy\\] i zwraca **w** oraz **b** wyznaczające hiperpłaszczyznę dzielącą zbiór.  \n",
    "Zmiennymi globalnymi są **TRAIN_SET**, **RECORD_SIZE** oraz **LAMBDA**, oznaczające odpowiednio wielkość podanego zbioru, ilość atrybutów dla elementu w zbiorze oraz $\\lambda$. Zmienne te są globalne aby nie było potrzeby przekazywania ich jako parametry, do funkcji, która będzie minimalizowana (uznawała by je ona za zmienne i według nich szukała minimum).\n",
    "Funkcja minimize zaimportowana z biblioteki SciPy wykorzystuje poniżej zdefiniowane funkcje **constraint** oraz **target**."
   ]
  },
  {
   "cell_type": "code",
   "execution_count": 6,
   "metadata": {},
   "outputs": [],
   "source": [
    "def linear_SVM(train_set):\n",
    "    global TRAIN_SET\n",
    "    global RECORD_SIZE\n",
    "    global LAMBDA\n",
    "    LAMBDA = 0.5\n",
    "    TRAIN_SET = train_set\n",
    "    RECORD_SIZE = len(TRAIN_SET[0]) - 1\n",
    "    constraint = NonlinearConstraint(constraint1, np.zeros(len(TRAIN_SET)), np.inf)\n",
    "    res = minimize(target, np.random.random(RECORD_SIZE + 1), constraints=constraint)\n",
    "    w = res.x[:RECORD_SIZE]\n",
    "    b = res.x[RECORD_SIZE]\n",
    "    return w, b"
   ]
  },
  {
   "cell_type": "markdown",
   "metadata": {},
   "source": [
    "Funkcja **target** jest równoważna:  \n",
    "\n",
    "<center>$\\sum_i\\zeta_i + \\lambda \\|w\\|$</center>\n",
    "  \n",
    "      \n",
    "    \n",
    "  \n",
    "która jest minimalizowana dla argumentów *w* i *b* przez **minimize**. Argumenty te są zebrane w jednej liście aby funkcja optymalizująca mogła działać. "
   ]
  },
  {
   "cell_type": "code",
   "execution_count": 7,
   "metadata": {},
   "outputs": [],
   "source": [
    "def target(w):\n",
    "    return np.linalg.norm(w[:RECORD_SIZE], 2)*LAMBDA + dzeta(w).sum()"
   ]
  },
  {
   "cell_type": "markdown",
   "metadata": {},
   "source": [
    "Na minimalizację powyższej funkcji nałożone są warunki:  \n",
    "<center>$y_i(w^Tx - b)\\geq 1 - \\zeta_i$ </center>  \n",
    "Co jest równoważne:  \n",
    "<center>$y_i(w^Tx - b) - 1 + \\zeta_i\\geq 0 $ </center>  \n",
    "Operacja ta w funkcji constarint jest wykonywana od razu dla całej macierzy, gdzie $\\zeta$ jest obliczane od razu jako wektor."
   ]
  },
  {
   "cell_type": "code",
   "execution_count": 8,
   "metadata": {},
   "outputs": [],
   "source": [
    "def constraint1(w):\n",
    "    return ((np.matmul(TRAIN_SET[:, :RECORD_SIZE], w[:RECORD_SIZE]) - w[RECORD_SIZE]) * TRAIN_SET[:, RECORD_SIZE]) + \\\n",
    "            dzeta(w) - np.ones(len(TRAIN_SET))"
   ]
  },
  {
   "cell_type": "markdown",
   "metadata": {},
   "source": [
    "Funkcja **dzeta** wykonuje operację:\n",
    "<center>$\\zeta_i = max(1 - f(x_i)y_i, 0)$</center>  \n",
    "dla każdego elementu macierzy z danymi i zwraca wynik jako wektor.\n"
   ]
  },
  {
   "cell_type": "code",
   "execution_count": 9,
   "metadata": {},
   "outputs": [],
   "source": [
    "def dzeta(w):\n",
    "    return np.maximum(np.zeros(len(TRAIN_SET)), np.ones(len(TRAIN_SET)) - ((np.matmul(TRAIN_SET[:, :RECORD_SIZE], w[:RECORD_SIZE]) - w[RECORD_SIZE]) * TRAIN_SET[:, RECORD_SIZE]))"
   ]
  },
  {
   "cell_type": "markdown",
   "metadata": {},
   "source": [
    "### Uczenie SVM - program"
   ]
  },
  {
   "cell_type": "markdown",
   "metadata": {},
   "source": [
    "Dane są ładowane do listy data, następnie tworzony jest zbiór testowy, który zostaje podzielony na 3 grupy. Uczone są 3 SVM (porównują zbiory 1 z 2, 2 z 3 i 3 z 1), które zwracają parametry *w* i *b* a ich wyniki są przekazywane do funkcji **predict**."
   ]
  },
  {
   "cell_type": "code",
   "execution_count": 10,
   "metadata": {},
   "outputs": [],
   "source": [
    "def train_svm(data_dictionary, class_vector):\n",
    "    parameters_array = [[[] for _ in range (len(data_dictionary))] for _ in range (len(data_dictionary))] \n",
    "    for i in range (len(data_dictionary)):\n",
    "        for j in range (len(data_dictionary)):\n",
    "            if i!=j:\n",
    "                parameters_array[i][j] = linear_SVM(make_3D_set(i, class_vector[i] + class_vector[j]))\n",
    "    return parameters_array"
   ]
  },
  {
   "cell_type": "markdown",
   "metadata": {},
   "source": [
    "#### Funkcja predict"
   ]
  },
  {
   "cell_type": "markdown",
   "metadata": {},
   "source": [
    "Funkcja **predict** przyjmuje jako argument atrybuty elementu zbioru i na ich podstawie decyduje do jakiej klasy należy dany element. Robi to instrukcjami warunkowymi (jeśli widzi, że dla porównań 1 z 2 i 1 z 3 oba wskazania są na 1 to zwraca macierz odpowiadającą elementowi klasy pierwszej, analogicznie dla pozostałych zbiorów). Sytuację, w której porówniane 1 z 2 wskazuje na 2, 2 z 3 na 2 i 3 z 1 na 1 pozostawiłem nierozstrzygnięte. Porównania między dwoma klasami odbywają się za pomocą obliczenia $wx - b$ i zwrócenia 1 jeśli wynik jest większy niż 0 lub -1 jeśli mniejszy."
   ]
  },
  {
   "cell_type": "markdown",
   "metadata": {},
   "source": [
    "Funkcja progowa unipolarna zwraca 1 jeśli *x* jest większy lub równy *a* i -1 jeśli *x* jest mniejszy od *a*  "
   ]
  },
  {
   "cell_type": "code",
   "execution_count": 11,
   "metadata": {},
   "outputs": [],
   "source": [
    "def threshold_unipolar_function(x, a):\n",
    "    if (x >= a):\n",
    "        return 1\n",
    "    elif (x < a):\n",
    "        return -1"
   ]
  },
  {
   "cell_type": "code",
   "execution_count": 12,
   "metadata": {},
   "outputs": [],
   "source": [
    "def predict(element, parameters_array):\n",
    "    for i in range (len(data_dictionary)):\n",
    "        pred_vector = [(threshold_unipolar_function(np.matmul(parameters_array[i][j][0], element) - parameters_array[i][j][1], 0)) \n",
    "                       for j in range(len(data_dictionary)) if i!=j]\n",
    "#         print(pred_vector)\n",
    "        if pred_vector == list(np.ones(len(data_dictionary)-1)):\n",
    "            return i+1\n",
    "    return 0"
   ]
  },
  {
   "cell_type": "markdown",
   "metadata": {},
   "source": [
    "### Ewaluacja - sprawdzenie działania algorytmu"
   ]
  },
  {
   "cell_type": "markdown",
   "metadata": {},
   "source": [
    "Poniżej znajduje się fragment programu, który sprawdza stopień poprawnośći przewidywań przez SVM. Zbiór testowy jest podzielony na 3 klasy i dla każdej klasy przewidywana jest jej klasa na podstawie modelu. Jeśli model się pomylił dodawana jest jedynka do liczby błędów."
   ]
  },
  {
   "cell_type": "code",
   "execution_count": 13,
   "metadata": {},
   "outputs": [],
   "source": [
    "data, data_dictionary = get_data(\"series2\", encode)\n",
    "train_set, test_set = split_into_sets(0.9, data)\n",
    "class_vector = split_into_classes(data, data_dictionary, decode)"
   ]
  },
  {
   "cell_type": "code",
   "execution_count": 14,
   "metadata": {},
   "outputs": [],
   "source": [
    "parameters_array = train_svm(data_dictionary, class_vector)"
   ]
  },
  {
   "cell_type": "code",
   "execution_count": 15,
   "metadata": {},
   "outputs": [
    {
     "name": "stdout",
     "output_type": "stream",
     "text": [
      "Class 1: accuracy 0.00%\n",
      "Class 2: accuracy 90.48%\n",
      "Class 3: accuracy 53.68%\n",
      "Class 4: accuracy 0.00%\n",
      "Class 5: accuracy 45.45%\n",
      "Class 6: accuracy 49.55%\n",
      "Class 7: accuracy 100.00%\n",
      "Class 8: accuracy 100.00%\n",
      "Class 9: accuracy 100.00%\n",
      "Class 10: accuracy 70.37%\n",
      "Class 11: accuracy 0.00%\n",
      "Class 12: accuracy 100.00%\n",
      "Class 13: accuracy 100.00%\n",
      "Class 14: accuracy 100.00%\n",
      "Class 15: accuracy 0.00%\n",
      "Total accuracy 59.87%\n"
     ]
    }
   ],
   "source": [
    "classes_vector = split_into_classes(test_set, data_dictionary, decode)\n",
    "total_errors = 0\n",
    "for element in data_dictionary.values():\n",
    "    errors = 0\n",
    "    for row in classes_vector[element-1]:\n",
    "        if predict(row[0], parameters_array) != element:\n",
    "            errors += 1\n",
    "    total_errors += errors\n",
    "    print(f\"Class {element}: accuracy {(1 - errors/len(classes_vector[element-1]))*100:.2f}%\")\n",
    "total_accuracy = (1 - (total_errors)/(len(test_set)))*100\n",
    "print(f\"Total accuracy {total_accuracy:.2f}%\")"
   ]
  },
  {
   "cell_type": "code",
   "execution_count": 16,
   "metadata": {},
   "outputs": [
    {
     "name": "stdout",
     "output_type": "stream",
     "text": [
      "3 3\n",
      "14 14\n",
      "2 2\n",
      "8 8\n",
      "1 0\n",
      "3 0\n",
      "10 5\n",
      "14 14\n",
      "3 0\n",
      "10 5\n"
     ]
    }
   ],
   "source": [
    "\"\"\"\n",
    "Sample test\n",
    "\"\"\"\n",
    "for _ in range(10):\n",
    "    x = random.choice(data)\n",
    "    print(decode(x[1]), predict(x[0], parameters_array))\n",
    "    \n"
   ]
  },
  {
   "cell_type": "code",
   "execution_count": 17,
   "metadata": {},
   "outputs": [],
   "source": [
    "classification_array = test(class_vector, predict, [parameters_array])"
   ]
  },
  {
   "cell_type": "code",
   "execution_count": null,
   "metadata": {},
   "outputs": [],
   "source": [
    "for class_name in data_dictionary:\n",
    "    create_heatmap(class_name, data_dictionary, classification_array)\n"
   ]
  },
  {
   "cell_type": "code",
   "execution_count": 27,
   "metadata": {},
   "outputs": [
    {
     "ename": "TypeError",
     "evalue": "create_heatmap() takes 3 positional arguments but 4 were given",
     "output_type": "error",
     "traceback": [
      "\u001b[1;31m---------------------------------------------------------------------------\u001b[0m",
      "\u001b[1;31mTypeError\u001b[0m                                 Traceback (most recent call last)",
      "\u001b[1;32m<ipython-input-27-2af5d8d9f9b8>\u001b[0m in \u001b[0;36m<module>\u001b[1;34m\u001b[0m\n\u001b[0;32m      1\u001b[0m \u001b[1;32mfor\u001b[0m \u001b[0mclass_name\u001b[0m \u001b[1;32min\u001b[0m \u001b[0mdata_dictionary\u001b[0m\u001b[1;33m:\u001b[0m\u001b[1;33m\u001b[0m\u001b[1;33m\u001b[0m\u001b[0m\n\u001b[1;32m----> 2\u001b[1;33m     \u001b[0mcreate_heatmap\u001b[0m\u001b[1;33m(\u001b[0m\u001b[0mclass_name\u001b[0m\u001b[1;33m,\u001b[0m \u001b[0mdata_dictionary\u001b[0m\u001b[1;33m,\u001b[0m \u001b[0mclassification_array\u001b[0m\u001b[1;33m,\u001b[0m \u001b[1;32mTrue\u001b[0m\u001b[1;33m)\u001b[0m\u001b[1;33m\u001b[0m\u001b[1;33m\u001b[0m\u001b[0m\n\u001b[0m",
      "\u001b[1;31mTypeError\u001b[0m: create_heatmap() takes 3 positional arguments but 4 were given"
     ]
    }
   ],
   "source": [
    "for class_name in data_dictionary:\n",
    "    create_heatmap(class_name, data_dictionary, classification_array, True)"
   ]
  },
  {
   "cell_type": "code",
   "execution_count": null,
   "metadata": {},
   "outputs": [],
   "source": []
  }
 ],
 "metadata": {
  "kernelspec": {
   "display_name": "Python 3",
   "language": "python",
   "name": "python3"
  },
  "language_info": {
   "codemirror_mode": {
    "name": "ipython",
    "version": 3
   },
   "file_extension": ".py",
   "mimetype": "text/x-python",
   "name": "python",
   "nbconvert_exporter": "python",
   "pygments_lexer": "ipython3",
   "version": "3.8.3"
  }
 },
 "nbformat": 4,
 "nbformat_minor": 4
}
