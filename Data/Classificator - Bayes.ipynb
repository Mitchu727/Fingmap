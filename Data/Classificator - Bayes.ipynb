{
 "cells": [
  {
   "cell_type": "markdown",
   "metadata": {},
   "source": [
    "# Michał Matak - Modele Bayesowskie do mapowania położenia obiektu"
   ]
  },
  {
   "cell_type": "markdown",
   "metadata": {},
   "source": [
    "\n",
    "\n",
    "## Importowanie bibliotek\n",
    "* numpy - operacje na macierzach \n",
    "* statistics - wyznaczenie średniej i wariancji\n",
    "* matplotlib - tworzenie wykresów\n",
    "* itertools - tworzenie wszytkich kombinacji dwu-elementowych zbioru\n",
    "* math - funkcje matematyczne oraz stałe"
   ]
  },
  {
   "cell_type": "code",
   "execution_count": 4,
   "metadata": {},
   "outputs": [],
   "source": [
    "import numpy as np\n",
    "import statistics as stat\n",
    "from matplotlib import pyplot as plt\n",
    "from itertools import combinations\n",
    "from math import exp, sqrt, pi, inf\n",
    "from get_dictionary import get_dictionary\n",
    "import csv"
   ]
  },
  {
   "cell_type": "markdown",
   "metadata": {},
   "source": [
    "## Funkcje przekształcające strukturę zbioru danych"
   ]
  },
  {
   "cell_type": "markdown",
   "metadata": {},
   "source": [
    "Pobranie danych z pliku:"
   ]
  },
  {
   "cell_type": "code",
   "execution_count": 5,
   "metadata": {},
   "outputs": [],
   "source": [
    "data_dictionary = {\n",
    "    \"13.0_10.0\":1,\n",
    "    \"14.0_10.0\":2,\n",
    "    \"15.0_10.0\":3,\n",
    "    \"15.0_11.0\":4,\n",
    "    \"15.0_12.0\":5,\n",
    "    \"20.0_5.0\":6\n",
    "}\n"
   ]
  },
  {
   "cell_type": "code",
   "execution_count": 6,
   "metadata": {},
   "outputs": [],
   "source": [
    "data_dictionary = get_dictionary(\"series2\")"
   ]
  },
  {
   "cell_type": "code",
   "execution_count": 7,
   "metadata": {},
   "outputs": [
    {
     "name": "stdout",
     "output_type": "stream",
     "text": [
      "1\n",
      "2\n",
      "3\n",
      "4\n",
      "5\n",
      "6\n",
      "7\n",
      "8\n",
      "9\n",
      "10\n",
      "11\n",
      "12\n",
      "13\n",
      "14\n",
      "15\n"
     ]
    }
   ],
   "source": [
    "for element in data_dictionary.values():\n",
    "    print(element)"
   ]
  },
  {
   "cell_type": "code",
   "execution_count": 8,
   "metadata": {},
   "outputs": [
    {
     "name": "stdout",
     "output_type": "stream",
     "text": [
      "['10.0', '10.0']\n",
      "['10.0', '15.0']\n",
      "['10.0', '20.0']\n",
      "['10.0', '25.0']\n",
      "['10.0', '5.0']\n",
      "['15.0', '10.0']\n",
      "['15.0', '15.0']\n",
      "['15.0', '20.0']\n",
      "['15.0', '25.0']\n",
      "['15.0', '5.0']\n",
      "['5.0', '10.0']\n",
      "['5.0', '15.0']\n",
      "['5.0', '20.0']\n",
      "['5.0', '25.0']\n",
      "['5.0', '5.0']\n"
     ]
    }
   ],
   "source": [
    "for element in data_dictionary:\n",
    "    print(element.split(\"_\"))"
   ]
  },
  {
   "cell_type": "code",
   "execution_count": 10,
   "metadata": {},
   "outputs": [],
   "source": [
    "def control(reading):\n",
    "    return min(reading, 50)"
   ]
  },
  {
   "cell_type": "code",
   "execution_count": 21,
   "metadata": {},
   "outputs": [],
   "source": [
    "def get_data(measurement):\n",
    "    offset = 0\n",
    "    sample_data = []\n",
    "    with open(\"series2/\" + measurement + \".txt\", newline='') as csvfile:\n",
    "        reader = csv.reader(csvfile)\n",
    "        for row in reader:\n",
    "            if len(row) == 6 + offset:\n",
    "                odczyt1 = float(row[1+offset])\n",
    "                odczyt2 = float(row[3+offset])\n",
    "                odczyt3 = float(row[5+offset])\n",
    "                sample_data.append([np.array([control(odczyt1), control(odczyt2), control(odczyt3)]),\n",
    "                                    data_dictionary[measurement]])\n",
    "    return sample_data"
   ]
  },
  {
   "cell_type": "markdown",
   "metadata": {},
   "source": [
    "Rezultatem jest lista **data** składająca się z list w formie: \\[\\[atrybuty\\],  \\[macierz odpowiadająca gatunkowi\\] \\]"
   ]
  },
  {
   "cell_type": "markdown",
   "metadata": {},
   "source": [
    "Podział danych na dwa zbiory według **set1_set2_ratio**:"
   ]
  },
  {
   "cell_type": "code",
   "execution_count": 22,
   "metadata": {},
   "outputs": [],
   "source": [
    "def create_sets(data, set1_set2_ratio):\n",
    "    np.random.shuffle(data)\n",
    "    set1_size = int(set1_set2_ratio*len(data))\n",
    "    set2_size = len(data) - set1_size\n",
    "    set1 = data[:set1_size]\n",
    "    set2 = data[-set2_size:]\n",
    "    return set1, set2"
   ]
  },
  {
   "cell_type": "markdown",
   "metadata": {},
   "source": [
    "Podział danych na $k$ zbiorów do walidacji. Wynikiem działania jest lista o $k$ elementach [zbiór testowy], [zbiór treningowy]. Zbiory testowe liczą $\\lfloor n/k \\rfloor$ elementów z wyjątkiem ostatniego, który liczy $n - (k-1)\\lfloor n/k \\rfloor$. W szczególności gdy $n$ jest podzielne przez $k$, to zwrócone zostaje $k$ równych zbiorów. Wraz zbiorem, w liście zwracane jest jego dopełnienie."
   ]
  },
  {
   "cell_type": "code",
   "execution_count": 23,
   "metadata": {},
   "outputs": [],
   "source": [
    "def k_split(array, k):\n",
    "    sets = []\n",
    "    np.random.shuffle(array)\n",
    "    set_length = int(len(array)/k)\n",
    "    for i in range(k-1):\n",
    "        sets.append([array[i*set_length:(i+1)*set_length], array[:i*set_length]+array[(i+1)*set_length:]])\n",
    "    sets.append([array[(k-1)*set_length:], array[:(k-1)*set_length]])\n",
    "    return sets"
   ]
  },
  {
   "cell_type": "markdown",
   "metadata": {},
   "source": [
    "Uzyskanie ze zbioru danych listy opisującej wartości danego atrybutu, dla danej klasy (jeśli klasa nie jest podana, zwracana jest lista z całego zbioru)"
   ]
  },
  {
   "cell_type": "code",
   "execution_count": 24,
   "metadata": {},
   "outputs": [],
   "source": [
    "def get_feature(data, feature, object_class=None):\n",
    "    return [record[0][feature] for record in data if not object_class or (record[1] == object_class)]"
   ]
  },
  {
   "cell_type": "markdown",
   "metadata": {},
   "source": [
    "## Funkcje związane z klasyfikatorem Bayesowskim"
   ]
  },
  {
   "cell_type": "markdown",
   "metadata": {},
   "source": [
    "Wyliczanie wartości rozkładu normalnego dla podanej średniej i odchylenia standardowego:"
   ]
  },
  {
   "cell_type": "code",
   "execution_count": 25,
   "metadata": {},
   "outputs": [],
   "source": [
    "def gauss(x, mean, std_deviation):\n",
    "    numerator = exp(-((x - mean)**2)/(2*std_deviation**2))\n",
    "    denominator = std_deviation * sqrt(2*pi)\n",
    "    return numerator/denominator"
   ]
  },
  {
   "cell_type": "markdown",
   "metadata": {},
   "source": [
    "Zwrócenie parametrów modelu dla danego atrybutu i wszystkich klas w formie listy:"
   ]
  },
  {
   "cell_type": "code",
   "execution_count": 26,
   "metadata": {},
   "outputs": [],
   "source": [
    "def train_parameters(data, feature):\n",
    "    data_list = []\n",
    "    for element in data_dictionary.values():\n",
    "        temporary_list = get_feature(data, feature, element)\n",
    "        data_list.append([stat.mean(temporary_list), stat.stdev(temporary_list)])\n",
    "    return data_list"
   ]
  },
  {
   "cell_type": "markdown",
   "metadata": {},
   "source": [
    "## Rozkład prawdopodobieństwa dla atrybutów "
   ]
  },
  {
   "cell_type": "markdown",
   "metadata": {},
   "source": [
    "W realizacji zadania założono, że rozkład wartości dla atrybutu może być opisany za pomocą rozkładu normalnego aby mozna było policzyć wartość $P(x_i|y)$ gdy $x_i$ nie przyjmuje wartości dyskretnych."
   ]
  },
  {
   "cell_type": "markdown",
   "metadata": {},
   "source": [
    "Poniżej zdefiniowana została pomocnicza funkcja, która pozwala na stworzenie wykresu pokazującego rozkład dla wartości podanego jako parametr atrybutu i funkcję rozkładu normalnego utworzoną z tych danych."
   ]
  },
  {
   "cell_type": "code",
   "execution_count": 27,
   "metadata": {},
   "outputs": [],
   "source": [
    "colors = [(np.random.choice(range(256), size=3)/255) for _ in range (len(data_dictionary))]"
   ]
  },
  {
   "cell_type": "code",
   "execution_count": 28,
   "metadata": {},
   "outputs": [],
   "source": [
    "def plot_feature(data, feature):\n",
    "    nbins = 10\n",
    "    transparency = 0.5\n",
    "    for element in data_dictionary:\n",
    "        flist = get_feature(data, feature, data_dictionary[element])\n",
    "        r, g, b = colors[data_dictionary[element]-1]\n",
    "        plt.hist(flist, bins=nbins, density=True, fc=(r, g, b, transparency), label=\"Klasa \" + str(data_dictionary[element]) + \" - \" + element)\n",
    "        idx = np.linspace(*plt.xlim(), 100)\n",
    "        val = [gauss(x, stat.mean(flist), stat.stdev(flist)) for x in idx]\n",
    "#         print(stat.mean(flist), stat.stdev(flist))\n",
    "        plt.plot(idx, val, color=(r, g, b, 1), label=\"Klasa \" + str(data_dictionary[element]) + \" - \" + element)\n",
    "    plt.title(f\"Wykres dla atrybutu o indeksie {feature}\")\n",
    "    plt.legend()\n",
    "    plt.show()"
   ]
  },
  {
   "cell_type": "code",
   "execution_count": 29,
   "metadata": {},
   "outputs": [
    {
     "name": "stdout",
     "output_type": "stream",
     "text": [
      "15000\n",
      "15\n"
     ]
    }
   ],
   "source": [
    "data = []\n",
    "for element in data_dictionary:\n",
    "    data += get_data(element)\n",
    "print(len(data))\n",
    "print(len(data_dictionary))"
   ]
  },
  {
   "cell_type": "code",
   "execution_count": 30,
   "metadata": {},
   "outputs": [
    {
     "data": {
      "image/png": "[encoded data removed]",
      "text/plain": [
       "<Figure size 432x288 with 1 Axes>"
      ]
     },
     "metadata": {
      "needs_background": "light"
     },
     "output_type": "display_data"
    },
    {
     "data": {
      "image/png": "[encoded data removed]",
      "text/plain": [
       "<Figure size 432x288 with 1 Axes>"
      ]
     },
     "metadata": {
      "needs_background": "light"
     },
     "output_type": "display_data"
    },
    {
     "data": {
      "image/png": "[encoded data removed]",
      "text/plain": [
       "<Figure size 432x288 with 1 Axes>"
      ]
     },
     "metadata": {
      "needs_background": "light"
     },
     "output_type": "display_data"
    }
   ],
   "source": [
    "for i in range(3):\n",
    "    plot_feature(data,i)"
   ]
  },
  {
   "cell_type": "markdown",
   "metadata": {},
   "source": [
    "Jak widać na wykresach w większości przypadków rozkład $x_i$ możemy przybliżyć rozkładem normalnym."
   ]
  },
  {
   "cell_type": "markdown",
   "metadata": {},
   "source": [
    "## Funkcja classify"
   ]
  },
  {
   "cell_type": "markdown",
   "metadata": {},
   "source": [
    "Funkcja **classify**, jako argument przyjmuje element ze zbioru danych, zbiór danych, a także dwie liczby określające zgodnie według jakich atrybutów klasyfikować element. Wskazywana jest taka klasa $y$ dla której wartość wyrażenia:\n",
    "<center>$P(x_i|y)\\cdot P(x_j|y)\\cdot P(y)$</center>\n",
    "jest największa.  \n",
    "\n",
    "Wartości $P(x_i|y)$ i $P(x_j|y)$ są obliczane na podstawie rozkładu Gaussa, którego parametry dla każdej klasy obliczane są przez funkcję *train_parameters* . Wartość $P(y)$ jest obliczana w specyficzny sposób, gdyż jest to długość listy wartości jakiegoś atrybutu dla klasy $y$ podzielona przez tą długość dla wszystkich klas."
   ]
  },
  {
   "cell_type": "code",
   "execution_count": 31,
   "metadata": {},
   "outputs": [],
   "source": [
    "def train(data):\n",
    "    return [train_parameters(data, 0), train_parameters(data, 1), train_parameters(data, 2)]"
   ]
  },
  {
   "cell_type": "code",
   "execution_count": 32,
   "metadata": {},
   "outputs": [],
   "source": [
    "def predict(element, train_par):\n",
    "    parameters1, parameters2, parameters3 = train_par\n",
    "    maximum = -inf\n",
    "    object_class = -inf\n",
    "    for i in range(len(data_dictionary)):\n",
    "        value = gauss(element[0][0], *parameters1[i]) * gauss(element[0][1], *parameters2[i])* gauss(element[0][2], *parameters3[i])*(len(data)/len(get_feature(data, 0, i+1)))\n",
    "        if (value > maximum): \n",
    "            object_class = i\n",
    "            maximum = value\n",
    "    return object_class + 1"
   ]
  },
  {
   "cell_type": "code",
   "execution_count": 34,
   "metadata": {},
   "outputs": [
    {
     "name": "stdout",
     "output_type": "stream",
     "text": [
      "1\n",
      "1\n"
     ]
    }
   ],
   "source": [
    "data = []\n",
    "for element in data_dictionary:\n",
    "    data += get_data(element)\n",
    "train_set, test_set = create_sets(data, 0.75)\n",
    "print(test_set[0][1])\n",
    "train_par = train(train_set)\n",
    "print(predict(test_set[0], train_par))"
   ]
  },
  {
   "cell_type": "markdown",
   "metadata": {},
   "source": [
    "## Ewaluacja - sprawdzenie działania algorytmu"
   ]
  },
  {
   "cell_type": "markdown",
   "metadata": {},
   "source": [
    "Poniżej znajduje się funkcja, który sprawdza stopień poprawnośći przewidywań przez naiwny klasyfikator Bayesowski. Jako parametry przyjmuje zbiór testowy, treningowy oraz liczby określające atrybuty. W zbiorze testowym na pierwszym miejscu każdego elementu jest liczba oznaczająca klasę, która jest porównywana ze wskazaniem modelu. Jeśli model się pomylił dodawana jest jedynka do liczby błędów."
   ]
  },
  {
   "cell_type": "code",
   "execution_count": 35,
   "metadata": {},
   "outputs": [],
   "source": [
    "def evaluate(test_set, train_set):\n",
    "    errors = 0\n",
    "    train_par = train(train_set)\n",
    "    for element in test_set:\n",
    "        if (element[1] != predict(element, train_par)): errors += 1\n",
    "    return errors/(len(train_set))"
   ]
  },
  {
   "cell_type": "markdown",
   "metadata": {},
   "source": [
    "## Działanie programu"
   ]
  },
  {
   "cell_type": "code",
   "execution_count": 36,
   "metadata": {},
   "outputs": [
    {
     "name": "stdout",
     "output_type": "stream",
     "text": [
      "7500\n"
     ]
    }
   ],
   "source": [
    "data = []\n",
    "for element in data_dictionary:\n",
    "    data += get_data(element)\n",
    "train_set, test_set = create_sets(data, 0.5)\n",
    "print(len(test_set))"
   ]
  },
  {
   "cell_type": "code",
   "execution_count": 37,
   "metadata": {},
   "outputs": [
    {
     "name": "stdout",
     "output_type": "stream",
     "text": [
      "0.23493333333333333\n",
      "Accuracy: 76.51%\n"
     ]
    }
   ],
   "source": [
    "error_rate = evaluate(test_set, train_set)\n",
    "print(error_rate)\n",
    "print(f\"Accuracy: {(1-error_rate)*100:.02f}%\")"
   ]
  },
  {
   "cell_type": "markdown",
   "metadata": {},
   "source": [
    "## k-krotna walidacja"
   ]
  },
  {
   "cell_type": "markdown",
   "metadata": {},
   "source": [
    "We wcześniejszym fragmencie liczby 11 i 12 oznaczające 12 i 13 atrybut zostały wybrane nieprzypadkowo. Została przeprowadzana walidacja krzyżowa, która sprawdziła dla jakiej pary atrybutów zostaną osiągnięte najlepsze wyniki. Funkcja ją realizujące przyjmuje jako argument zbiór danych oraz parametr $k$."
   ]
  },
  {
   "cell_type": "code",
   "execution_count": 36,
   "metadata": {},
   "outputs": [],
   "source": [
    "def k_cross_validation(k, data):\n",
    "    valid_sets = k_split(data, k)\n",
    "    error_rate = 0\n",
    "    for train_test in valid_sets:\n",
    "        error_rate += evaluate(train_test[0], train_test[1])\n",
    "    accuracy = 1 - error_rate/k\n",
    "    print(f\"Average accuracy: {100*accuracy:.2f}%\")\n"
   ]
  },
  {
   "cell_type": "code",
   "execution_count": 37,
   "metadata": {},
   "outputs": [
    {
     "name": "stdout",
     "output_type": "stream",
     "text": [
      "Average accuracy: 98.85%\n"
     ]
    }
   ],
   "source": [
    "k_cross_validation(4, data)"
   ]
  },
  {
   "cell_type": "code",
   "execution_count": null,
   "metadata": {},
   "outputs": [],
   "source": []
  }
 ],
 "metadata": {
  "kernelspec": {
   "display_name": "Python 3",
   "language": "python",
   "name": "python3"
  },
  "language_info": {
   "codemirror_mode": {
    "name": "ipython",
    "version": 3
   },
   "file_extension": ".py",
   "mimetype": "text/x-python",
   "name": "python",
   "nbconvert_exporter": "python",
   "pygments_lexer": "ipython3",
   "version": "3.8.3"
  }
 },
 "nbformat": 4,
 "nbformat_minor": 4
}
